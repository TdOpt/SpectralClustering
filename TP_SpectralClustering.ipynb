{
 "cells": [
  {
   "cell_type": "markdown",
   "metadata": {
    "collapsed": true
   },
   "source": [
    "## Spectral Clustering and Semi-Supervised Learning\n",
    "\n",
    "#### This notebook contains different values and imports that can be used in this practical session.\n",
    "#### Please keep the same variable names when provided in your report to make the work of teaching assistants easier. \n",
    "#### You can still change the values given or the sizes of the datasets treated if you believe it is usefull to illustrate your point.\n",
    "\n",
    "#### You can directly edit the markdown boxes to add your comments and answers to the questions"
   ]
  },
  {
   "cell_type": "code",
   "execution_count": null,
   "metadata": {
    "collapsed": false
   },
   "outputs": [],
   "source": [
    "# Question 1 (imports and advised values):\n",
    "from sklearn.datasets import make_moons\n",
    "import matplotlib.pyplot as plt\n",
    "%matplotlib inline\n",
    "import numpy as np\n",
    "\n",
    "n_samples = 200 # You can change these values\n",
    "noise_level_list = [.05,.1,.2] # You can change these values"
   ]
  },
  {
   "cell_type": "markdown",
   "metadata": {},
   "source": [
    "### Question 1 : Complete the code in the box below"
   ]
  },
  {
   "cell_type": "code",
   "execution_count": null,
   "metadata": {
    "collapsed": false
   },
   "outputs": [],
   "source": [
    "#A dictionnary which maps the noise level to the correponding moon dataset (if it has already been generated)\n",
    "noisy_moons = {} \n",
    "for i in range(len(noise_level_list)):\n",
    "    noisy_moons[noise_level_list[i]] = make_moons(n_samples,shuffle = False, noise =noise_level_list[i])\n",
    "\n",
    "    \n",
    "f, a = plt.subplots(1,len(noise_level_list))\n",
    "i = 0\n",
    "for noise in noisy_moons.iterkeys():\n",
    "    a[i].scatter(noisy_moons[noise][0][:,0], noisy_moons[noise][0][:,1], c = noisy_moons[noise][1])\n",
    "    a[i].set_title('Noise = %.2f' % noise)\n",
    "    i += 1"
   ]
  },
  {
   "cell_type": "code",
   "execution_count": null,
   "metadata": {
    "collapsed": true
   },
   "outputs": [],
   "source": [
    "# Question 2 :\n",
    "from sklearn.neighbors import kneighbors_graph\n",
    "n_neighbors_list = [1,5,10] # You can change these values"
   ]
  },
  {
   "cell_type": "markdown",
   "metadata": {},
   "source": [
    "### Question 2 : Complete the code in the box below"
   ]
  },
  {
   "cell_type": "code",
   "execution_count": null,
   "metadata": {
    "collapsed": false,
    "scrolled": true
   },
   "outputs": [],
   "source": [
    "#Generate the adjacency matrices\n",
    "kNN_graphs = {}\n",
    "for i in range(len(n_neighbors_list)):\n",
    "    for j in range(len(noise_level_list)):\n",
    "        kNN_graphs[n_neighbors_list[i],noise_level_list[j]] = \\\n",
    "        kneighbors_graph(noisy_moons[noise_level_list[j]][0], n_neighbors_list[i], mode='distance', p=2)\n",
    "\n",
    "#TODO : improve the plots by plotting a scatterplot instead, where edges are added between points iff they are close enough\n",
    "\n",
    "f, a = plt.subplots(len(n_neighbors_list), len(noise_level_list))\n",
    "for i in range(len(n_neighbors_list)):\n",
    "    for j in range(len(noise_level_list)):\n",
    "        a[i,j].imshow(kNN_graphs[n_neighbors_list[i],noise_level_list[j]].todense(),cmap = 'Greys',interpolation=\"none\")\n",
    "        a[i,j].set_title('Noise =  %.2f, k = %.1f' % (noise_level_list[j], n_neighbors_list[i]))"
   ]
  },
  {
   "cell_type": "markdown",
   "metadata": {
    "collapsed": true
   },
   "source": [
    "### Question 3 : Optimization problem \n",
    "\n",
    "- Given a graph $\\mathcal{G} = (E,V)$, let $D$ be its degree matrix and $W$ its weighted ajacency matrix, such that $L := D - W$ is the Laplacian of the graph. In the case when we consider a partition in 2 subsets $A,\\bar{A}$, the Normalized Cut problem translates as the following optimization problem:\n",
    "\n",
    "\n",
    "\n",
    "- $\\min_A f^\\top L f \\text{ s.t. } f_i = \n",
    "\\begin{cases}\n",
    "    \\sqrt{\\frac{\\text{Vol}(\\bar{A})}{\\text{Vol}(A)}},& \\text{if } v_i\\in A\\\\\n",
    "    \\sqrt{\\frac{\\text{Vol}(A)}{\\text{Vol}(\\bar{A})}},& \\text{if } v_i\\in \\bar{A}\n",
    "\\end{cases}, Df \\bot \\mathbb{1}, f^\\top D f = \\text{Vol}(V)$\n",
    "\n",
    "\n",
    "- This problem is then relaxed as $\\min_{f\\in \\mathbb{R}^n} f^\\top L f \\text{ s.t. } Df \\bot \\mathbb{1}, f^\\top D f = \\text{Vol}(V)$\n"
   ]
  },
  {
   "cell_type": "markdown",
   "metadata": {
    "collapsed": true
   },
   "source": [
    "### Question 4 : Complete the code in the box below\n",
    "\n"
   ]
  },
  {
   "cell_type": "code",
   "execution_count": null,
   "metadata": {
    "collapsed": false
   },
   "outputs": [],
   "source": [
    "from sklearn.cluster import SpectralClustering"
   ]
  },
  {
   "cell_type": "markdown",
   "metadata": {},
   "source": [
    "### Question 5 : Complete the code in the box below"
   ]
  },
  {
   "cell_type": "code",
   "execution_count": null,
   "metadata": {
    "collapsed": false
   },
   "outputs": [],
   "source": []
  },
  {
   "cell_type": "markdown",
   "metadata": {},
   "source": [
    "### Question 6 : Complete the code in the box below"
   ]
  },
  {
   "cell_type": "code",
   "execution_count": null,
   "metadata": {
    "collapsed": false
   },
   "outputs": [],
   "source": []
  },
  {
   "cell_type": "markdown",
   "metadata": {},
   "source": [
    "### Question 7 : Complete the code in the box below"
   ]
  },
  {
   "cell_type": "code",
   "execution_count": null,
   "metadata": {
    "collapsed": false
   },
   "outputs": [],
   "source": [
    "from sklearn.cluster import AgglomerativeClustering\n",
    "\n"
   ]
  },
  {
   "cell_type": "markdown",
   "metadata": {},
   "source": [
    "### Experiment on MNIST"
   ]
  },
  {
   "cell_type": "code",
   "execution_count": null,
   "metadata": {
    "collapsed": true
   },
   "outputs": [],
   "source": [
    "# Add your code here"
   ]
  },
  {
   "cell_type": "markdown",
   "metadata": {},
   "source": [
    "## Semi-Supervised Learning\n",
    "\n",
    "Choice of the dataset used : **Precise** which dataset you chose and why it is relevant for the semi-supervised learning Task\n",
    "\n",
    "Advised datasets :\n",
    "\n",
    "*Breast Cancer Wisconsin (Diagnostic) Database*\n",
    "\n",
    "*MNIST binary even vs odd (multiple clusters inside each class)*\n",
    "\n",
    "Feel free to use other datasets if they are relevant"
   ]
  },
  {
   "cell_type": "code",
   "execution_count": null,
   "metadata": {
    "collapsed": false
   },
   "outputs": [],
   "source": [
    "from sklearn.datasets import load_breast_cancer, load_digits\n",
    "from sklearn.model_selection import train_test_split\n",
    "\n",
    "\n",
    "### For all the next questions, use Cancer and Mnist classes to handle your data if you choose to use these one,\n",
    "### You can also add more datasets but we advise you to handle them with this class for better readability\n",
    "class semi_sup_dat:\n",
    "    def __init__(self,data,p_unlabelled,name):\n",
    "        # DON T CHANGE THE RANDOM STATES\n",
    "        self.name = name\n",
    "        if self.name == 'Mnist':\n",
    "            # do an even vs odd binary classification :\n",
    "            even = [0,2,4,6,8]\n",
    "            Y = [int(y in even) for y in data.target]\n",
    "        else:\n",
    "            Y = data.target\n",
    "        X_lab, X_unlab, y_lab, y_unlab = train_test_split(data.data, data.target, test_size=p_unlabelled, random_state=32)\n",
    "        self.X_lab = X_lab\n",
    "        self.X_unlab = X_unlab\n",
    "        self.y_lab = y_lab\n",
    "        self.y_unlab = y_unlab\n",
    "\n",
    "\n",
    "# The following lines can be called later in the code to build a dataset with varying unlabelled proportion\n",
    "p_unlabelled = 0.8 # You can change this value\n",
    "Cancer = semi_sup_dat(load_breast_cancer(), p_unlabelled,'Cancer')\n",
    "digits = load_digits()\n",
    "\n",
    "Mnist = semi_sup_dat(load_digits(), p_unlabelled,'Mnist')"
   ]
  },
  {
   "cell_type": "markdown",
   "metadata": {},
   "source": [
    "### Question 9 : Complete the code in the box below"
   ]
  },
  {
   "cell_type": "code",
   "execution_count": null,
   "metadata": {
    "collapsed": false
   },
   "outputs": [],
   "source": [
    "#  Question 9  : Complete the function self_training\n",
    "from sklearn.neighbors import KNeighborsClassifier\n",
    "\n",
    "\n",
    "\n"
   ]
  },
  {
   "cell_type": "markdown",
   "metadata": {},
   "source": [
    "### Question 10 : Complete the code in the box below\n",
    "\n",
    "###### Closed form expression :\n",
    "\n",
    "-\n",
    "\n",
    "-\n",
    "\n",
    "-"
   ]
  },
  {
   "cell_type": "code",
   "execution_count": null,
   "metadata": {
    "collapsed": false
   },
   "outputs": [],
   "source": [
    "from sklearn.metrics.pairwise import rbf_kernel # Or reimplement it yourself if your prefer\n",
    "from scipy.linalg import block_diag\n",
    "\n",
    "    "
   ]
  },
  {
   "cell_type": "markdown",
   "metadata": {},
   "source": [
    "### Question 11 : Complete the code in the box below"
   ]
  },
  {
   "cell_type": "code",
   "execution_count": null,
   "metadata": {
    "collapsed": true
   },
   "outputs": [],
   "source": []
  },
  {
   "cell_type": "markdown",
   "metadata": {},
   "source": [
    "### Question 12 : Add your answer here\n",
    "\n",
    "-\n",
    "\n",
    "-\n",
    "\n",
    "-"
   ]
  },
  {
   "cell_type": "markdown",
   "metadata": {},
   "source": [
    "### Question 13 : Complete the code in the box below"
   ]
  },
  {
   "cell_type": "code",
   "execution_count": null,
   "metadata": {
    "collapsed": true
   },
   "outputs": [],
   "source": []
  },
  {
   "cell_type": "markdown",
   "metadata": {},
   "source": [
    "### Question 14 : Complete the code in the box below\n",
    "\n",
    "##### Add your answer to the question here :\n",
    "\n",
    "-\n",
    "\n",
    "-\n",
    "\n",
    "-"
   ]
  },
  {
   "cell_type": "code",
   "execution_count": null,
   "metadata": {
    "collapsed": true
   },
   "outputs": [],
   "source": []
  },
  {
   "cell_type": "markdown",
   "metadata": {},
   "source": [
    "### Question 15 : Complete the code in the box below"
   ]
  },
  {
   "cell_type": "code",
   "execution_count": null,
   "metadata": {
    "collapsed": true
   },
   "outputs": [],
   "source": []
  },
  {
   "cell_type": "markdown",
   "metadata": {},
   "source": [
    "### Question 16 : Complete the code in the box below\n",
    "\n",
    "###### Describe your protocol here : \n",
    "-\n",
    "\n",
    "-\n",
    "\n",
    "-"
   ]
  },
  {
   "cell_type": "code",
   "execution_count": null,
   "metadata": {
    "collapsed": true
   },
   "outputs": [],
   "source": []
  }
 ],
 "metadata": {
  "kernelspec": {
   "display_name": "Python 2",
   "language": "python",
   "name": "python2"
  },
  "language_info": {
   "codemirror_mode": {
    "name": "ipython",
    "version": 2
   },
   "file_extension": ".py",
   "mimetype": "text/x-python",
   "name": "python",
   "nbconvert_exporter": "python",
   "pygments_lexer": "ipython2",
   "version": "2.7.6"
  }
 },
 "nbformat": 4,
 "nbformat_minor": 0
}
